{
 "cells": [
  {
   "cell_type": "markdown",
   "id": "03f0d8cf",
   "metadata": {},
   "source": [
    "# Cabeçalho\n",
    "## UFRJ  - 2021-1\n",
    "#### Introdução ao Aprendizado de Máquina - Trabalho 2\n",
    "##### Aluno: Bernardo Bevilaqua Földes Guimarães\n",
    "##### Professor: Heraldo Luis Silveira de Almeida"
   ]
  },
  {
   "cell_type": "markdown",
   "id": "67fce8e1",
   "metadata": {},
   "source": [
    "# Introdução\n",
    "#### O trabalho consiste em realizar um modelo preditivo para tentar estimar o valor dos imóveis de uma cidade com base em diversos atributos. Para isso, primeiro foi necessário treinar o modelo com dados que já apresentavam o preço e posteriormente prever o valor  de outras 2000 amostras.\n",
    "#### O trabalho deverá ser submetido ao Kaggle onde será realizada uma competição cujo objetivo é apresentar resultados com o menor Root Mean Squared Percentage Error"
   ]
  },
  {
   "cell_type": "markdown",
   "id": "ae17c11d",
   "metadata": {},
   "source": [
    "## Importa Bibliotecas"
   ]
  },
  {
   "cell_type": "code",
   "execution_count": 15,
   "id": "a9bb5f58",
   "metadata": {},
   "outputs": [],
   "source": [
    "import matplotlib.pyplot as plt\n",
    "from sklearn.utils import shuffle\n",
    "from sklearn.preprocessing import StandardScaler, PowerTransformer, RobustScaler, QuantileTransformer \n",
    "from sklearn.pipeline import Pipeline\n",
    "from sklearn.linear_model import Ridge\n",
    "from sklearn.neighbors import KNeighborsRegressor\n",
    "from sklearn.model_selection import cross_val_score\n",
    "from xgboost import XGBRegressor\n",
    "import pandas as pd\n",
    "import numpy as np\n",
    "from pandas_profiling import ProfileReport"
   ]
  },
  {
   "cell_type": "code",
   "execution_count": 4,
   "id": "990f2f71",
   "metadata": {},
   "outputs": [
    {
     "data": {
      "text/plain": [
       "'C:\\\\Users\\\\Dell\\\\UFRJ\\\\2021-1\\\\Intro Aprendizado Maquinas\\\\introdução_apredizado_de_maquina\\\\trabalho02'"
      ]
     },
     "execution_count": 4,
     "metadata": {},
     "output_type": "execute_result"
    }
   ],
   "source": [
    "pwd"
   ]
  },
  {
   "cell_type": "markdown",
   "id": "a5fd4eff",
   "metadata": {},
   "source": [
    "## Ler Dados de Treinamento"
   ]
  },
  {
   "cell_type": "code",
   "execution_count": 5,
   "id": "c8b537b7",
   "metadata": {},
   "outputs": [],
   "source": [
    "df = pd.read_csv(\"./conjunto_de_treinamento.csv\")"
   ]
  },
  {
   "cell_type": "markdown",
   "id": "d2d4d44e",
   "metadata": {},
   "source": [
    "## Exploração dos Dados"
   ]
  },
  {
   "cell_type": "code",
   "execution_count": null,
   "id": "e35791ee",
   "metadata": {},
   "outputs": [],
   "source": [
    "df.head()"
   ]
  },
  {
   "cell_type": "code",
   "execution_count": null,
   "id": "08c2377d",
   "metadata": {},
   "outputs": [],
   "source": [
    "df.shape"
   ]
  },
  {
   "cell_type": "markdown",
   "id": "a338c0ea",
   "metadata": {},
   "source": [
    "#### Pelo comando abaixo, verificamos que não existem valores em branco no conjunto"
   ]
  },
  {
   "cell_type": "code",
   "execution_count": null,
   "id": "d1599e9a",
   "metadata": {},
   "outputs": [],
   "source": [
    "df.isnull().values.any()"
   ]
  },
  {
   "cell_type": "code",
   "execution_count": null,
   "id": "0c673f4a",
   "metadata": {
    "scrolled": true
   },
   "outputs": [],
   "source": [
    "df[['churrasqueira','estacionamento','piscina','playground','quadra',\\\n",
    "   's_festas','s_ginastica','sauna','vista_mar','s_jogos']].sum()"
   ]
  },
  {
   "cell_type": "markdown",
   "id": "fcd57bf7",
   "metadata": {},
   "source": [
    "#### Explorando a quantidade de dados e a distribuição deles"
   ]
  },
  {
   "cell_type": "code",
   "execution_count": null,
   "id": "e5d3e3e5",
   "metadata": {},
   "outputs": [],
   "source": [
    "len(df['bairro'].unique())"
   ]
  },
  {
   "cell_type": "code",
   "execution_count": null,
   "id": "32e96b3e",
   "metadata": {},
   "outputs": [],
   "source": [
    "df['bairro'].hist()\n",
    "plt.xticks(rotation=90)\n",
    "plt.tight_layout()"
   ]
  },
  {
   "cell_type": "code",
   "execution_count": null,
   "id": "1edb38d5",
   "metadata": {},
   "outputs": [],
   "source": [
    "df['tipo'].value_counts()"
   ]
  },
  {
   "cell_type": "code",
   "execution_count": null,
   "id": "d956fc86",
   "metadata": {},
   "outputs": [],
   "source": [
    "df['tipo_vendedor'].value_counts()"
   ]
  },
  {
   "cell_type": "markdown",
   "id": "d6e61144",
   "metadata": {},
   "source": [
    "##### Iremos utilizar o ProfileReport Para fazer uma análise gerão dos dados"
   ]
  },
  {
   "cell_type": "code",
   "execution_count": null,
   "id": "d0eb9578",
   "metadata": {},
   "outputs": [],
   "source": [
    "profile.to_widgets()"
   ]
  },
  {
   "cell_type": "markdown",
   "id": "00288bbd",
   "metadata": {},
   "source": [
    "##### Essa função retorna erros, porem ela é necessária para gerar o notebook abaixo"
   ]
  },
  {
   "cell_type": "code",
   "execution_count": 52,
   "id": "0809ad9e",
   "metadata": {},
   "outputs": [],
   "source": [
    "profile = ProfileReport(df, title=\"Pandas Profiling Report\", explorative=True)"
   ]
  },
  {
   "cell_type": "code",
   "execution_count": null,
   "id": "cc64b5ef",
   "metadata": {},
   "outputs": [],
   "source": [
    "profile.to_notebook_iframe()"
   ]
  },
  {
   "cell_type": "markdown",
   "id": "faab7525",
   "metadata": {},
   "source": [
    "## Pré-processamento"
   ]
  },
  {
   "cell_type": "markdown",
   "id": "0b967a8f",
   "metadata": {},
   "source": [
    "### Para não garantirmos que os dados estão aleatóriamente embaralhados usamos a função shuffle"
   ]
  },
  {
   "cell_type": "code",
   "execution_count": 61,
   "id": "cf250152",
   "metadata": {},
   "outputs": [],
   "source": [
    "df = shuffle(df, random_state=0)\n",
    "X, y = df.drop('preco',axis=1), df['preco']"
   ]
  },
  {
   "cell_type": "markdown",
   "id": "27d5a80e",
   "metadata": {},
   "source": [
    "#### Podemos excluir a coluna Id, pois ela não possui significado preditivo nenhum e a coluna diferencias também não contribui com nada, visto que ja foi  feito o one hot encoding dela anteriormente.\n",
    "\n",
    "#### Para os campos \"bairro\", \"tipo\" e \"tipo_vendedor\", foi feito o one hot encoding, para transformar variáveis categóricas em binárias"
   ]
  },
  {
   "cell_type": "code",
   "execution_count": 62,
   "id": "f2aa1abc",
   "metadata": {},
   "outputs": [],
   "source": [
    "def preprocessing(X):\n",
    "    X.drop(['Id','diferenciais'],axis=1,inplace=True)\n",
    "    X = pd.get_dummies(X,columns=['bairro','tipo','tipo_vendedor'])\n",
    "    return X"
   ]
  },
  {
   "cell_type": "code",
   "execution_count": 63,
   "id": "28c59b79",
   "metadata": {},
   "outputs": [],
   "source": [
    "X = preprocessing(X)"
   ]
  },
  {
   "cell_type": "markdown",
   "id": "90ed8039",
   "metadata": {},
   "source": [
    "## Escolhendo o Modelo"
   ]
  },
  {
   "cell_type": "markdown",
   "id": "642800d6",
   "metadata": {},
   "source": [
    "#### A função rmspe será a responsável por calcular a eficiência dos modelos propostos, quanto menor, melhor será o resultado"
   ]
  },
  {
   "cell_type": "code",
   "execution_count": 36,
   "id": "f8a6850e",
   "metadata": {},
   "outputs": [],
   "source": [
    "def rmspe(estimator, X, y):\n",
    "    model = estimator.fit(X,y)\n",
    "    y_pred = model.predict(X)\n",
    "    y_true = y\n",
    "    loss = np.sqrt(np.mean(np.square(((y_true - y_pred) / y_true)), axis=0))\n",
    "\n",
    "    return loss"
   ]
  },
  {
   "cell_type": "markdown",
   "id": "d0d5d915",
   "metadata": {},
   "source": [
    "#### Precisamos aplicar uma escala para não termos um peso muito maior de uma coluna em  relação a outra"
   ]
  },
  {
   "cell_type": "code",
   "execution_count": 64,
   "id": "5324525c",
   "metadata": {},
   "outputs": [],
   "source": [
    "scaler = QuantileTransformer()\n",
    "X = scaler.fit_transform(X)"
   ]
  },
  {
   "cell_type": "markdown",
   "id": "bdba2404",
   "metadata": {},
   "source": [
    "#### Iremos agora testar alguns tipos de modelo para posteriormente escolher o melhor"
   ]
  },
  {
   "cell_type": "markdown",
   "id": "1ad16469",
   "metadata": {},
   "source": [
    "### KNeighborsRegressor()"
   ]
  },
  {
   "cell_type": "code",
   "execution_count": 75,
   "id": "bfdfa6a9",
   "metadata": {},
   "outputs": [
    {
     "name": "stdout",
     "output_type": "stream",
     "text": [
      "k    --  rmspe\n",
      "55   --   4.205698277639458\n",
      "56   --   4.183232255929349\n",
      "57   --   4.162093004767811\n",
      "58   --   4.136864249014509\n",
      "59   --   4.126647051298488\n",
      "60   --   4.12545001269931\n",
      "61   --   4.105662454296789\n",
      "62   --   4.07265334727572\n",
      "63   --   4.085413031998797\n",
      "64   --   4.076107569622101\n",
      "65   --   4.085733541871053\n",
      "66   --   4.095684436062502\n",
      "67   --   4.107033578248396\n",
      "68   --   4.114638848364063\n",
      "69   --   4.130589561796868\n"
     ]
    }
   ],
   "source": [
    "print(\"k    --  rmspe\")\n",
    "for k in range(55,70):\n",
    "    cv_score_Knn = cross_val_score(KNeighborsRegressor(n_neighbors=k), X, y, cv=10, scoring=rmspe)\n",
    "    print(k, \"  --  \", cv_score_Knn.mean())"
   ]
  },
  {
   "cell_type": "markdown",
   "id": "36c5b2b7",
   "metadata": {},
   "source": [
    "#### Observamos que o Knn tem seu melhor resultado para k=62, porém ainda é um valor muito alto"
   ]
  },
  {
   "cell_type": "markdown",
   "id": "5922bd7e",
   "metadata": {},
   "source": [
    "### Ridge()"
   ]
  },
  {
   "cell_type": "code",
   "execution_count": 97,
   "id": "a56f16fb",
   "metadata": {},
   "outputs": [
    {
     "name": "stdout",
     "output_type": "stream",
     "text": [
      "alpha   --  rmspe\n",
      "470     --   3.7213627565433334\n",
      "471     --   3.721356110115031\n",
      "472     --   3.7213516952994348\n",
      "473     --   3.7213495003463883\n",
      "474     --   3.721349513572515\n"
     ]
    }
   ],
   "source": [
    "print(\"alpha   --  rmspe\")\n",
    "for alpha in range(470,475):\n",
    "    cv_score_ridge = cross_val_score(Ridge(alpha=alpha), X, y, cv=10, scoring=rmspe)\n",
    "    print(alpha, \"    --  \", cv_score_ridge.mean())\n",
    "    "
   ]
  },
  {
   "cell_type": "markdown",
   "id": "a924922c",
   "metadata": {},
   "source": [
    "#### Observamos que o Ridge tem seu melhor resultado para alpha≅470, porém ainda é um valor muito alto"
   ]
  },
  {
   "cell_type": "markdown",
   "id": "370aacda",
   "metadata": {},
   "source": [
    "### XGBRegressor()"
   ]
  },
  {
   "cell_type": "code",
   "execution_count": 65,
   "id": "e980b94b",
   "metadata": {},
   "outputs": [
    {
     "data": {
      "text/plain": [
       "0.1400386474829928"
      ]
     },
     "execution_count": 65,
     "metadata": {},
     "output_type": "execute_result"
    }
   ],
   "source": [
    "cv_score_xgb = cross_val_score(XGBRegressor(random_state=0),X,y,cv=10,scoring=rmspe) \n",
    "cv_score_xgb.mean()"
   ]
  },
  {
   "cell_type": "markdown",
   "id": "6a6b4ae1",
   "metadata": {},
   "source": [
    "###### Resultado muito superior aos outros"
   ]
  },
  {
   "cell_type": "markdown",
   "id": "ac4d0b12",
   "metadata": {},
   "source": [
    "## ------------------------------------------------\n",
    "# Predição dos Dados de Teste\n",
    "## ------------------------------------------------"
   ]
  },
  {
   "cell_type": "markdown",
   "id": "ca60ecfb",
   "metadata": {},
   "source": [
    "#### Para conseguir prever os dados de teste, iremos ler novamente os dados de treinamento para zerar as transformações feitas  nele"
   ]
  },
  {
   "cell_type": "code",
   "execution_count": 66,
   "id": "1c15f090",
   "metadata": {},
   "outputs": [],
   "source": [
    "df = pd.read_csv(\"./conjunto_de_treinamento.csv\")\n",
    "df_test = pd.read_csv(\"./conjunto_de_teste.csv\")"
   ]
  },
  {
   "cell_type": "code",
   "execution_count": 67,
   "id": "4bea1514",
   "metadata": {},
   "outputs": [],
   "source": [
    "df = shuffle(df, random_state=0)\n",
    "X, y = df.drop('preco',axis=1), df['preco']"
   ]
  },
  {
   "cell_type": "markdown",
   "id": "4d2ad949",
   "metadata": {},
   "source": [
    "#### Após novamente embaralharmos os dados de treinamento, iremos preprocessar os dados de treinamento e de teste, porém agora iremos excluir as colunas que se encontram apenas em um deles"
   ]
  },
  {
   "cell_type": "code",
   "execution_count": 68,
   "id": "49d97492",
   "metadata": {},
   "outputs": [],
   "source": [
    "df_test = preprocessing(df_test)\n",
    "X = preprocessing(X)\n",
    "\n",
    "\n",
    "for column in X.columns:\n",
    "    if column not in df_test.columns:\n",
    "        X.drop(column,axis=1, inplace=True)\n",
    "\n",
    "for column in df_test.columns:\n",
    "    if column not in X.columns:\n",
    "        df_test.drop(column,axis=1, inplace=True)"
   ]
  },
  {
   "cell_type": "markdown",
   "id": "f7bc4552",
   "metadata": {},
   "source": [
    "#### Com os dados já processados, iremos utilizar o XGBRegressor(), que foi o que apresentou melhor resultado anteriormente. Para isso usaremos um Pipeline, que primeiro irá aplicar a escala correta e depois aplicar o modelo"
   ]
  },
  {
   "cell_type": "code",
   "execution_count": 69,
   "id": "44ce8d9f",
   "metadata": {},
   "outputs": [],
   "source": [
    "xgb = Pipeline([('scaler',QuantileTransformer ()),\n",
    "                    ('model',XGBRegressor(random_state=0))])\n",
    "model = xgb.fit(X,y)"
   ]
  },
  {
   "cell_type": "code",
   "execution_count": 70,
   "id": "7db5fb73",
   "metadata": {},
   "outputs": [],
   "source": [
    "test_pred = model.predict(df_test)"
   ]
  },
  {
   "cell_type": "markdown",
   "id": "8f9b2548",
   "metadata": {},
   "source": [
    "#### Como já temos os resultados do modelo preditos, iremos gerar um dataframe no formato pedido pelo Kaggle e gerar um csv"
   ]
  },
  {
   "cell_type": "code",
   "execution_count": 71,
   "id": "31b6d061",
   "metadata": {},
   "outputs": [],
   "source": [
    "respostas = pd.DataFrame(\n",
    "    {\"Id\": range(2000),\n",
    "     \"preco\": test_pred})\n",
    "\n",
    "\n",
    "respostas.to_csv(path_or_buf=\"respostas.csv\", index=False)"
   ]
  }
 ],
 "metadata": {
  "kernelspec": {
   "display_name": "Python 3",
   "language": "python",
   "name": "python3"
  },
  "language_info": {
   "codemirror_mode": {
    "name": "ipython",
    "version": 3
   },
   "file_extension": ".py",
   "mimetype": "text/x-python",
   "name": "python",
   "nbconvert_exporter": "python",
   "pygments_lexer": "ipython3",
   "version": "3.8.8"
  }
 },
 "nbformat": 4,
 "nbformat_minor": 5
}
