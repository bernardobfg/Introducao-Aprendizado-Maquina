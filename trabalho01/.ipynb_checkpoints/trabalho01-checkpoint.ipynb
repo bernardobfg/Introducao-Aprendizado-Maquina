{
 "cells": [
  {
   "cell_type": "markdown",
   "id": "97b124a1",
   "metadata": {},
   "source": [
    "# Cabeçalho\n",
    "## UFRJ  - 2021-1\n",
    "#### Introdução ao Aprendizado de Máquina - Trabalho 1\n",
    "##### Aluno: Bernardo Bevilaqua Földes Guimarães\n",
    "##### Professor: Heraldo Luis Silveira de Almeida"
   ]
  },
  {
   "cell_type": "markdown",
   "id": "6e52c360",
   "metadata": {},
   "source": [
    "# Introdução\n",
    "#### O trabalho consiste em realizar um modelo preditivo para auxiliar na decisão da aprovação ou não do crédito de uma companhia financeira com base nas caracteristicas do cliente. O intuito é identificar se o cliente será ou não inadimplente\n",
    "#### O trabalho deverá ser submetido ao Kaggle onde será realizada uma competição cujo objetivo é apresentar resultados com a maior acurácia."
   ]
  },
  {
   "cell_type": "markdown",
   "id": "dcd212f1",
   "metadata": {},
   "source": [
    "## Importação das bibliotecas"
   ]
  },
  {
   "cell_type": "code",
   "execution_count": 1,
   "id": "5c87f84f",
   "metadata": {},
   "outputs": [],
   "source": [
    "import pandas as pd\n",
    "from matplotlib import pyplot as plt\n",
    "import seaborn as sns\n",
    "from sklearn.utils import shuffle\n",
    "from sklearn.model_selection import train_test_split\n",
    "from sklearn.preprocessing import LabelBinarizer, MinMaxScaler, StandardScaler,Normalizer, QuantileTransformer,PowerTransformer, RobustScaler\n",
    "from sklearn.neighbors import KNeighborsClassifier\n",
    "from sklearn.model_selection import cross_val_score\n",
    "from sklearn.naive_bayes import MultinomialNB, GaussianNB, BernoulliNB\n",
    "from sklearn.metrics import accuracy_score\n",
    "from sklearn.model_selection import RandomizedSearchCV, GridSearchCV\n",
    "from sklearn.datasets import make_hastie_10_2\n",
    "from sklearn.pipeline import Pipeline\n",
    "from sklearn.ensemble import GradientBoostingClassifier\n",
    "from xgboost import XGBClassifier\n",
    "from sklearn.model_selection import StratifiedKFold\n",
    "from datetime import datetime\n",
    "from sklearn.calibration import CalibratedClassifierCV\n",
    "import numpy as np"
   ]
  },
  {
   "cell_type": "code",
   "execution_count": 2,
   "id": "db73938f",
   "metadata": {},
   "outputs": [],
   "source": [
    "from pandas_profiling import ProfileReport"
   ]
  },
  {
   "cell_type": "markdown",
   "id": "bc269c02",
   "metadata": {
    "scrolled": true
   },
   "source": [
    "Antes de inicar a rodar os comandos abaixo, será necessário indicar ao jupyter o caminho de onde estão os dados, utilizando o comando cd, ou alterando o path das partes do código referentes a leitura dos dados e a geração do csv"
   ]
  },
  {
   "cell_type": "markdown",
   "id": "abb9f0dc",
   "metadata": {},
   "source": [
    "## Leitura dos dados de treinamento"
   ]
  },
  {
   "cell_type": "code",
   "execution_count": 4,
   "id": "70565375",
   "metadata": {},
   "outputs": [],
   "source": [
    "df = pd.read_csv(\"./conjunto_de_treinamento.csv\")"
   ]
  },
  {
   "cell_type": "markdown",
   "id": "e9f42d95",
   "metadata": {},
   "source": [
    "# Exploração dos dados"
   ]
  },
  {
   "cell_type": "code",
   "execution_count": null,
   "id": "d74eb332",
   "metadata": {},
   "outputs": [],
   "source": [
    "df.head()"
   ]
  },
  {
   "cell_type": "code",
   "execution_count": null,
   "id": "43153efe",
   "metadata": {},
   "outputs": [],
   "source": [
    "df.shape"
   ]
  },
  {
   "cell_type": "code",
   "execution_count": 5,
   "id": "d7a26054",
   "metadata": {},
   "outputs": [],
   "source": [
    "profile = ProfileReport(df, title=\"Pandas Profiling Report\", explorative=True)"
   ]
  },
  {
   "cell_type": "markdown",
   "id": "66f6ce4d",
   "metadata": {},
   "source": [
    "#### Iremos utilizar a  ProfileReport para fazer uma análise mais geral dos dados"
   ]
  },
  {
   "cell_type": "code",
   "execution_count": null,
   "id": "9ee0b509",
   "metadata": {
    "scrolled": false
   },
   "outputs": [],
   "source": [
    "profile.to_widgets()"
   ]
  },
  {
   "cell_type": "markdown",
   "id": "bfd5e6c3",
   "metadata": {},
   "source": [
    "#### Esse metodo retorna alguns erros, mas será necessário para disponibilizar a visualização abaixo"
   ]
  },
  {
   "cell_type": "code",
   "execution_count": null,
   "id": "5d78c085",
   "metadata": {
    "scrolled": true
   },
   "outputs": [],
   "source": [
    "profile.to_notebook_iframe()"
   ]
  },
  {
   "cell_type": "code",
   "execution_count": null,
   "id": "89fa0a39",
   "metadata": {},
   "outputs": [],
   "source": [
    "df['meses_na_residencia'].unique()"
   ]
  },
  {
   "cell_type": "markdown",
   "id": "0227b806",
   "metadata": {},
   "source": [
    "### Pre-processamento"
   ]
  },
  {
   "cell_type": "code",
   "execution_count": 171,
   "id": "aab44fca",
   "metadata": {},
   "outputs": [],
   "source": [
    "df = shuffle(df,random_state=0)\n",
    "X, y = df.drop('inadimplente',axis=1), df['inadimplente']"
   ]
  },
  {
   "cell_type": "markdown",
   "id": "3057f74f",
   "metadata": {},
   "source": [
    "Iremos a apagar alguns campos que não tem influencia positiva no modelo, pois ou estão todos com o mesmo valor, ou não adicionam nenhuma informação significativa.\n",
    "\n",
    "Além disso, iremos transformar alguns campos em variáveis binárias.\n",
    "\n",
    "Por último iremos transformar as variáveis categóricas"
   ]
  },
  {
   "cell_type": "code",
   "execution_count": 7,
   "id": "8d254214",
   "metadata": {},
   "outputs": [],
   "source": [
    "def preprocessing(X):\n",
    "    X.drop([\n",
    "    \"id_solicitante\",\n",
    "    \"codigo_area_telefone_residencial\",\n",
    "    \"codigo_area_telefone_trabalho\",\n",
    "    \"local_onde_reside\",\n",
    "    \"local_onde_trabalha\", \n",
    "    \"qtde_contas_bancarias_especiais\",\n",
    "    \"grau_instrucao\",\n",
    "    \"possui_telefone_celular\",\n",
    "    ], axis=1,inplace=True)\n",
    "    binarizador = LabelBinarizer()\n",
    "    for coluna in [\"possui_telefone_residencial\",\n",
    "                   \"possui_telefone_trabalho\",\n",
    "                   \"vinculo_formal_com_empresa\",\n",
    "                   \"possui_email\"\n",
    "                  ]:\n",
    "        X[coluna] = binarizador.fit_transform(X[coluna])\n",
    "    X['sexo'].replace(' ','N',inplace=True)\n",
    "    X = pd.get_dummies(X, columns=[\"sexo\",\n",
    "                                   \"forma_envio_solicitacao\",\n",
    "                                   \"estado_civil\", \n",
    "                                   \"profissao\",\n",
    "                                   \"nacionalidade\",\n",
    "                                   \"estado_onde_nasceu\",\n",
    "                                   \"tipo_residencia\",\n",
    "                                   \"estado_onde_reside\",\n",
    "                                   \"estado_onde_trabalha\",\n",
    "                                   \"ocupacao\",\n",
    "                                   \"profissao_companheiro\",\n",
    "                                   \"grau_instrucao_companheiro\",\n",
    "                                  ])\n",
    "    return X"
   ]
  },
  {
   "cell_type": "code",
   "execution_count": 174,
   "id": "4c598b3a",
   "metadata": {},
   "outputs": [
    {
     "data": {
      "text/plain": [
       "171"
      ]
     },
     "execution_count": 174,
     "metadata": {},
     "output_type": "execute_result"
    }
   ],
   "source": [
    "X = preprocessing(X)"
   ]
  },
  {
   "cell_type": "markdown",
   "id": "ba04c73e",
   "metadata": {},
   "source": [
    "# Ajustando a escala"
   ]
  },
  {
   "cell_type": "code",
   "execution_count": 165,
   "id": "3806dd94",
   "metadata": {},
   "outputs": [
    {
     "name": "stderr",
     "output_type": "stream",
     "text": [
      "C:\\Users\\Dell\\anaconda3\\lib\\site-packages\\sklearn\\preprocessing\\_data.py:3237: RuntimeWarning: divide by zero encountered in log\n",
      "  loglike = -n_samples / 2 * np.log(x_trans.var())\n"
     ]
    }
   ],
   "source": [
    "X = PowerTransformer().fit_transform(X)"
   ]
  },
  {
   "cell_type": "markdown",
   "id": "ebb8c61c",
   "metadata": {},
   "source": [
    "# Escolhendo o Modelo adequado"
   ]
  },
  {
   "cell_type": "markdown",
   "id": "0d7d3776",
   "metadata": {},
   "source": [
    "### Knn"
   ]
  },
  {
   "cell_type": "code",
   "execution_count": 37,
   "id": "af5ef80c",
   "metadata": {},
   "outputs": [
    {
     "name": "stdout",
     "output_type": "stream",
     "text": [
      "1 0.5247499999999999\n",
      "2 0.52525\n",
      "3 0.53515\n",
      "4 0.53065\n",
      "5 0.5342\n",
      "6 0.52905\n",
      "7 0.5347000000000001\n",
      "8 0.53685\n",
      "9 0.53895\n"
     ]
    }
   ],
   "source": [
    "for k in range(1,10):\n",
    "    clf = KNeighborsClassifier(\n",
    "                        n_neighbors=k\n",
    "                         )\n",
    "    cv_score_xgb = cross_val_score(clf,X,y,cv=10) \n",
    "    print(k,cv_score_xgb.mean())"
   ]
  },
  {
   "cell_type": "markdown",
   "id": "abee2bd9",
   "metadata": {},
   "source": [
    "### GaussianNB"
   ]
  },
  {
   "cell_type": "code",
   "execution_count": 43,
   "id": "31609a5f",
   "metadata": {},
   "outputs": [
    {
     "name": "stdout",
     "output_type": "stream",
     "text": [
      "0.5304500000000001\n"
     ]
    }
   ],
   "source": [
    "clf = GaussianNB()\n",
    "cv_score_xgb = cross_val_score(clf,X,y,cv=10) \n",
    "print(cv_score_xgb.mean())"
   ]
  },
  {
   "cell_type": "markdown",
   "id": "2d64559d",
   "metadata": {},
   "source": [
    "### BernoulliNB"
   ]
  },
  {
   "cell_type": "code",
   "execution_count": 40,
   "id": "d1b7e0e3",
   "metadata": {},
   "outputs": [
    {
     "name": "stdout",
     "output_type": "stream",
     "text": [
      "0.56935\n"
     ]
    }
   ],
   "source": [
    "clf = BernoulliNB(alpha=1)\n",
    "cv_score_xgb = cross_val_score(clf,X,y,cv=10) \n",
    "print(cv_score_xgb.mean())"
   ]
  },
  {
   "cell_type": "markdown",
   "id": "36d67b95",
   "metadata": {},
   "source": [
    "### XGBClassifier"
   ]
  },
  {
   "cell_type": "markdown",
   "id": "26d6e89d",
   "metadata": {},
   "source": [
    "###### Iremos utilizar a RandomizesSearchCV para escolher os melhores parâmetros"
   ]
  },
  {
   "cell_type": "code",
   "execution_count": 166,
   "id": "51552aaf",
   "metadata": {},
   "outputs": [],
   "source": [
    "params = {\n",
    "        'min_child_weight': [8, 10, 12],\n",
    "        'gamma': [1.2, 1.5, 1.7],\n",
    "        'subsample': [0.7, 0.8, 0.9],\n",
    "        'colsample_bytree': [0.5,0.6, 0.7],\n",
    "        'max_depth': [3, 4, 5],\n",
    "        'n_estimators':[100, 120, 150,180, 200,215],\n",
    "        }"
   ]
  },
  {
   "cell_type": "code",
   "execution_count": 167,
   "id": "214f1c95",
   "metadata": {},
   "outputs": [],
   "source": [
    "xgb = XGBClassifier(objective='binary:logistic', learning_rate=0.07,\n",
    "                    silent=True, nthread=1, use_label_encoder=False,\n",
    "                        eval_metric='logloss',)"
   ]
  },
  {
   "cell_type": "code",
   "execution_count": 168,
   "id": "319d33f8",
   "metadata": {},
   "outputs": [
    {
     "name": "stdout",
     "output_type": "stream",
     "text": [
      "Fitting 5 folds for each of 10 candidates, totalling 50 fits\n"
     ]
    },
    {
     "data": {
      "text/plain": [
       "RandomizedSearchCV(cv=<generator object _BaseKFold.split at 0x000001C39804E970>,\n",
       "                   estimator=XGBClassifier(base_score=None, booster=None,\n",
       "                                           colsample_bylevel=None,\n",
       "                                           colsample_bynode=None,\n",
       "                                           colsample_bytree=None,\n",
       "                                           eval_metric='logloss', gamma=None,\n",
       "                                           gpu_id=None, importance_type='gain',\n",
       "                                           interaction_constraints=None,\n",
       "                                           learning_rate=0.07,\n",
       "                                           max_delta_step=None, max_depth=None,\n",
       "                                           min...\n",
       "                                           scale_pos_weight=None, silent=True,\n",
       "                                           subsample=None, tree_method=None,\n",
       "                                           use_label_encoder=False,\n",
       "                                           validate_parameters=None,\n",
       "                                           verbosity=None),\n",
       "                   n_jobs=4,\n",
       "                   param_distributions={'colsample_bytree': [0.5, 0.6, 0.7],\n",
       "                                        'gamma': [1.2, 1.5, 1.7],\n",
       "                                        'max_depth': [3, 4, 5],\n",
       "                                        'min_child_weight': [8, 10, 12],\n",
       "                                        'n_estimators': [100, 120, 150, 180,\n",
       "                                                         200, 215],\n",
       "                                        'subsample': [0.7, 0.8, 0.9]},\n",
       "                   random_state=1001, verbose=3)"
      ]
     },
     "execution_count": 168,
     "metadata": {},
     "output_type": "execute_result"
    }
   ],
   "source": [
    "folds = 5\n",
    "param_comb = 10\n",
    "\n",
    "skf = StratifiedKFold(n_splits=folds, shuffle = True, random_state = 1001)\n",
    "\n",
    "random_search = RandomizedSearchCV(xgb, param_distributions=params, n_iter=param_comb,  n_jobs=4, cv=skf.split(X,y), verbose=3, random_state=1001 )\n",
    "\n",
    "random_search.fit(X, y)"
   ]
  },
  {
   "cell_type": "code",
   "execution_count": 169,
   "id": "971a48c8",
   "metadata": {},
   "outputs": [
    {
     "data": {
      "text/plain": [
       "0.5977"
      ]
     },
     "execution_count": 169,
     "metadata": {},
     "output_type": "execute_result"
    }
   ],
   "source": [
    "random_search.best_score_"
   ]
  },
  {
   "cell_type": "code",
   "execution_count": 170,
   "id": "6dba76d1",
   "metadata": {},
   "outputs": [
    {
     "data": {
      "text/plain": [
       "XGBClassifier(base_score=0.5, booster='gbtree', colsample_bylevel=1,\n",
       "              colsample_bynode=1, colsample_bytree=0.6, eval_metric='logloss',\n",
       "              gamma=1.7, gpu_id=-1, importance_type='gain',\n",
       "              interaction_constraints='', learning_rate=0.07, max_delta_step=0,\n",
       "              max_depth=4, min_child_weight=8, missing=nan,\n",
       "              monotone_constraints='()', n_estimators=200, n_jobs=1, nthread=1,\n",
       "              num_parallel_tree=1, random_state=0, reg_alpha=0, reg_lambda=1,\n",
       "              scale_pos_weight=1, silent=True, subsample=0.8,\n",
       "              tree_method='exact', use_label_encoder=False,\n",
       "              validate_parameters=1, verbosity=None)"
      ]
     },
     "execution_count": 170,
     "metadata": {},
     "output_type": "execute_result"
    }
   ],
   "source": [
    "random_search.best_estimator_"
   ]
  },
  {
   "cell_type": "markdown",
   "id": "dff4dae3",
   "metadata": {},
   "source": [
    "##### Como tivemos um resultado bem melhor, iremos utilizar esse modelo para prever os dados de teste"
   ]
  },
  {
   "cell_type": "markdown",
   "id": "40e828bc",
   "metadata": {},
   "source": [
    "# -------------------------------------------\n",
    "# | Predição dos dados de teste |\n",
    "# -------------------------------------------"
   ]
  },
  {
   "cell_type": "markdown",
   "id": "62dce4eb",
   "metadata": {},
   "source": [
    "### Para zerar as modificações feitas durante a escolha do modelo, iremos reler os dados e processá-los novamente"
   ]
  },
  {
   "cell_type": "code",
   "execution_count": 9,
   "id": "fb468ff3",
   "metadata": {},
   "outputs": [],
   "source": [
    "df = pd.read_csv(\"./conjunto_de_treinamento.csv\")\n",
    "dados_teste = pd.read_csv(\"./conjunto_de_teste.csv\")"
   ]
  },
  {
   "cell_type": "code",
   "execution_count": 10,
   "id": "73ea1ece",
   "metadata": {
    "scrolled": true
   },
   "outputs": [],
   "source": [
    "df = shuffle(df, random_state=0)\n",
    "X, y = df.drop('inadimplente',axis=1), df['inadimplente']\n",
    "X = preprocessing(X)\n",
    "X_teste = preprocessing(dados_teste)\n"
   ]
  },
  {
   "cell_type": "markdown",
   "id": "3840703a",
   "metadata": {},
   "source": [
    "#### Para evitar erros no modelo, iremos iterar sobre as colunas dos dados de treino e caso não encontremos uma dessas colunas nos dados de teste, iremos definir todos os valores como 0.\n",
    "#### Já para o caso da coluna só existir nos dados de teste, iremos apagá-la"
   ]
  },
  {
   "cell_type": "code",
   "execution_count": 11,
   "id": "26b4f7b1",
   "metadata": {},
   "outputs": [],
   "source": [
    "for coluna in X.columns:\n",
    "    if(coluna not in X_teste.columns):\n",
    "        X_teste[coluna] = 0\n",
    "for coluna in X_teste.columns:\n",
    "    if(coluna not in X.columns):\n",
    "        X_teste.drop([coluna], axis=1, inplace=True)"
   ]
  },
  {
   "cell_type": "markdown",
   "id": "4cd9b13b",
   "metadata": {},
   "source": [
    "#### Aplicando a escala"
   ]
  },
  {
   "cell_type": "code",
   "execution_count": 12,
   "id": "604a7287",
   "metadata": {},
   "outputs": [],
   "source": [
    "escala = PowerTransformer()\n",
    "escala.fit(X)\n",
    "X, X_teste = escala.transform(X), escala.transform(X_teste)"
   ]
  },
  {
   "cell_type": "markdown",
   "id": "61199dd5",
   "metadata": {},
   "source": [
    "#### Prevendo os dados usando o melhor modelo retornado anteriormente"
   ]
  },
  {
   "cell_type": "code",
   "execution_count": 13,
   "id": "8b34ae46",
   "metadata": {
    "scrolled": true
   },
   "outputs": [
    {
     "name": "stdout",
     "output_type": "stream",
     "text": [
      "[09:15:52] WARNING: C:/Users/Administrator/workspace/xgboost-win64_release_1.4.0/src/learner.cc:573: \n",
      "Parameters: { \"silent\" } might not be used.\n",
      "\n",
      "  This may not be accurate due to some parameters are only used in language bindings but\n",
      "  passed down to XGBoost core.  Or some parameters are not used but slip through this\n",
      "  verification. Please open an issue if you find above cases.\n",
      "\n",
      "\n",
      "[09:16:07] WARNING: C:/Users/Administrator/workspace/xgboost-win64_release_1.4.0/src/learner.cc:573: \n",
      "Parameters: { \"silent\" } might not be used.\n",
      "\n",
      "  This may not be accurate due to some parameters are only used in language bindings but\n",
      "  passed down to XGBoost core.  Or some parameters are not used but slip through this\n",
      "  verification. Please open an issue if you find above cases.\n",
      "\n",
      "\n",
      "[09:16:22] WARNING: C:/Users/Administrator/workspace/xgboost-win64_release_1.4.0/src/learner.cc:573: \n",
      "Parameters: { \"silent\" } might not be used.\n",
      "\n",
      "  This may not be accurate due to some parameters are only used in language bindings but\n",
      "  passed down to XGBoost core.  Or some parameters are not used but slip through this\n",
      "  verification. Please open an issue if you find above cases.\n",
      "\n",
      "\n",
      "[09:16:37] WARNING: C:/Users/Administrator/workspace/xgboost-win64_release_1.4.0/src/learner.cc:573: \n",
      "Parameters: { \"silent\" } might not be used.\n",
      "\n",
      "  This may not be accurate due to some parameters are only used in language bindings but\n",
      "  passed down to XGBoost core.  Or some parameters are not used but slip through this\n",
      "  verification. Please open an issue if you find above cases.\n",
      "\n",
      "\n",
      "[09:16:51] WARNING: C:/Users/Administrator/workspace/xgboost-win64_release_1.4.0/src/learner.cc:573: \n",
      "Parameters: { \"silent\" } might not be used.\n",
      "\n",
      "  This may not be accurate due to some parameters are only used in language bindings but\n",
      "  passed down to XGBoost core.  Or some parameters are not used but slip through this\n",
      "  verification. Please open an issue if you find above cases.\n",
      "\n",
      "\n",
      "[09:17:06] WARNING: C:/Users/Administrator/workspace/xgboost-win64_release_1.4.0/src/learner.cc:573: \n",
      "Parameters: { \"silent\" } might not be used.\n",
      "\n",
      "  This may not be accurate due to some parameters are only used in language bindings but\n",
      "  passed down to XGBoost core.  Or some parameters are not used but slip through this\n",
      "  verification. Please open an issue if you find above cases.\n",
      "\n",
      "\n",
      "[09:17:20] WARNING: C:/Users/Administrator/workspace/xgboost-win64_release_1.4.0/src/learner.cc:573: \n",
      "Parameters: { \"silent\" } might not be used.\n",
      "\n",
      "  This may not be accurate due to some parameters are only used in language bindings but\n",
      "  passed down to XGBoost core.  Or some parameters are not used but slip through this\n",
      "  verification. Please open an issue if you find above cases.\n",
      "\n",
      "\n",
      "[09:17:34] WARNING: C:/Users/Administrator/workspace/xgboost-win64_release_1.4.0/src/learner.cc:573: \n",
      "Parameters: { \"silent\" } might not be used.\n",
      "\n",
      "  This may not be accurate due to some parameters are only used in language bindings but\n",
      "  passed down to XGBoost core.  Or some parameters are not used but slip through this\n",
      "  verification. Please open an issue if you find above cases.\n",
      "\n",
      "\n",
      "[09:17:49] WARNING: C:/Users/Administrator/workspace/xgboost-win64_release_1.4.0/src/learner.cc:573: \n",
      "Parameters: { \"silent\" } might not be used.\n",
      "\n",
      "  This may not be accurate due to some parameters are only used in language bindings but\n",
      "  passed down to XGBoost core.  Or some parameters are not used but slip through this\n",
      "  verification. Please open an issue if you find above cases.\n",
      "\n",
      "\n",
      "[09:18:03] WARNING: C:/Users/Administrator/workspace/xgboost-win64_release_1.4.0/src/learner.cc:573: \n",
      "Parameters: { \"silent\" } might not be used.\n",
      "\n",
      "  This may not be accurate due to some parameters are only used in language bindings but\n",
      "  passed down to XGBoost core.  Or some parameters are not used but slip through this\n",
      "  verification. Please open an issue if you find above cases.\n",
      "\n",
      "\n",
      "[09:18:18] WARNING: C:/Users/Administrator/workspace/xgboost-win64_release_1.4.0/src/learner.cc:573: \n",
      "Parameters: { \"silent\" } might not be used.\n",
      "\n",
      "  This may not be accurate due to some parameters are only used in language bindings but\n",
      "  passed down to XGBoost core.  Or some parameters are not used but slip through this\n",
      "  verification. Please open an issue if you find above cases.\n",
      "\n",
      "\n",
      "[09:18:32] WARNING: C:/Users/Administrator/workspace/xgboost-win64_release_1.4.0/src/learner.cc:573: \n",
      "Parameters: { \"silent\" } might not be used.\n",
      "\n",
      "  This may not be accurate due to some parameters are only used in language bindings but\n",
      "  passed down to XGBoost core.  Or some parameters are not used but slip through this\n",
      "  verification. Please open an issue if you find above cases.\n",
      "\n",
      "\n"
     ]
    }
   ],
   "source": [
    "clf = XGBClassifier(base_score=0.5, booster='gbtree', colsample_bylevel=1,\n",
    "              colsample_bynode=1, colsample_bytree=0.6, eval_metric='logloss',\n",
    "              gamma=1.7, gpu_id=-1, importance_type='gain',\n",
    "              interaction_constraints='', learning_rate=0.07, max_delta_step=0,\n",
    "              max_depth=4, min_child_weight=8, missing=np.nan,\n",
    "              monotone_constraints='()', n_estimators=200, n_jobs=1, nthread=1,\n",
    "              num_parallel_tree=1, random_state=0, reg_alpha=0, reg_lambda=1,\n",
    "              scale_pos_weight=1, silent=True, subsample=0.8,\n",
    "              tree_method='exact', use_label_encoder=False,\n",
    "              validate_parameters=1, verbosity=None)\n",
    "clf=CalibratedClassifierCV(clf, method='isotonic', cv=12)\n",
    "clf.fit(X,y)\n",
    "\n",
    "y_resposta_teste = clf.predict(X_teste)"
   ]
  },
  {
   "cell_type": "markdown",
   "id": "45151cf7",
   "metadata": {},
   "source": [
    "#### Gerando os dados que serão submetidos ao kaggle"
   ]
  },
  {
   "cell_type": "code",
   "execution_count": 14,
   "id": "0d298d8b",
   "metadata": {},
   "outputs": [],
   "source": [
    "respostas = pd.DataFrame(\n",
    "    {\"id_solicitante\": range(20001, 25001),\n",
    "     \"inadimplente\": y_resposta_teste})\n",
    "\n",
    "\n",
    "\n",
    "respostas.to_csv(path_or_buf=\"respostas.csv\", index=False)"
   ]
  }
 ],
 "metadata": {
  "kernelspec": {
   "display_name": "Python 3",
   "language": "python",
   "name": "python3"
  },
  "language_info": {
   "codemirror_mode": {
    "name": "ipython",
    "version": 3
   },
   "file_extension": ".py",
   "mimetype": "text/x-python",
   "name": "python",
   "nbconvert_exporter": "python",
   "pygments_lexer": "ipython3",
   "version": "3.8.8"
  }
 },
 "nbformat": 4,
 "nbformat_minor": 5
}
